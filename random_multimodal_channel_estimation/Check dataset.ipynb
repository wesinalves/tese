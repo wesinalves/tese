{
 "cells": [
  {
   "cell_type": "code",
   "execution_count": 1,
   "id": "b3928c60",
   "metadata": {},
   "outputs": [],
   "source": [
    "import pandas as pd\n",
    "from scipy.io import loadmat,savemat\n",
    "import numpy as np"
   ]
  },
  {
   "cell_type": "code",
   "execution_count": 2,
   "id": "7d432747",
   "metadata": {},
   "outputs": [],
   "source": [
    "stat_rosslyn = loadmat('data/channel_data/stat_rosslyn.mat')\n",
    "stat_beijing = loadmat('data/channel_data/stat_beijing.mat')\n",
    "rosslyn = loadmat('data/channel_data/channel_data.mat')\n",
    "beijing = loadmat('data/channel_data/beijing_data.mat')"
   ]
  },
  {
   "cell_type": "code",
   "execution_count": 3,
   "id": "9cc3ef3f",
   "metadata": {},
   "outputs": [
    {
     "data": {
      "text/plain": [
       "(10000, 8, 16)"
      ]
     },
     "execution_count": 3,
     "metadata": {},
     "output_type": "execute_result"
    }
   ],
   "source": [
    "stat_rosslyn['Harray'].shape"
   ]
  },
  {
   "cell_type": "code",
   "execution_count": 3,
   "id": "94b1fff3",
   "metadata": {},
   "outputs": [
    {
     "name": "stdout",
     "output_type": "stream",
     "text": [
      "0 1000\n",
      "1 2000\n",
      "2 3000\n",
      "3 4000\n",
      "4 5000\n",
      "5 6000\n",
      "6 7000\n",
      "7 8000\n",
      "8 9000\n"
     ]
    }
   ],
   "source": [
    "#np.concatenate((rosslyn['Hvirtual'][0:5], stat_rosslyn['Hvirtual'][0:5])).shape\n",
    "# para cada porcentagem extrair rosslyn e concatenar com stat_rosslyn\n",
    "percent = [1000,2000,3000,4000,5000,6000,7000,8000,9000]\n",
    "for i,p in enumerate(percent):\n",
    "    Harray = np.concatenate((beijing['Harray'][0:p], stat_beijing['Harray'][p:10000]))\n",
    "    Hvirtual = np.concatenate((beijing['Hvirtual'][0:p], stat_beijing['Hvirtual'][p:10000]))\n",
    "    savemat(f'data/channel_data/beijing{p//100}.mat', {'Harray': Harray, 'Hvirtual': Hvirtual})\n",
    "    print(i,p)\n",
    "    "
   ]
  },
  {
   "cell_type": "code",
   "execution_count": 4,
   "id": "64a463c8",
   "metadata": {},
   "outputs": [],
   "source": [
    "beijing10 =  loadmat('data/channel_data/beijing10.mat')"
   ]
  },
  {
   "cell_type": "code",
   "execution_count": 5,
   "id": "18e172cb",
   "metadata": {},
   "outputs": [
    {
     "data": {
      "text/plain": [
       "(10000, 8, 16)"
      ]
     },
     "execution_count": 5,
     "metadata": {},
     "output_type": "execute_result"
    }
   ],
   "source": [
    "beijing10['Harray'].shape"
   ]
  },
  {
   "cell_type": "code",
   "execution_count": 70,
   "id": "d0c5d1cb",
   "metadata": {},
   "outputs": [
    {
     "data": {
      "text/plain": [
       "-3.768151032046063e-09"
      ]
     },
     "execution_count": 70,
     "metadata": {},
     "output_type": "execute_result"
    }
   ],
   "source": [
    "np.mean(rosslyn10['Harray'])"
   ]
  }
 ],
 "metadata": {
  "kernelspec": {
   "display_name": "Python 3",
   "language": "python",
   "name": "python3"
  },
  "language_info": {
   "codemirror_mode": {
    "name": "ipython",
    "version": 3
   },
   "file_extension": ".py",
   "mimetype": "text/x-python",
   "name": "python",
   "nbconvert_exporter": "python",
   "pygments_lexer": "ipython3",
   "version": "3.7.11"
  }
 },
 "nbformat": 4,
 "nbformat_minor": 5
}
